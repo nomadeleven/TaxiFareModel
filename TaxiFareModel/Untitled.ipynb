{
 "cells": [
  {
   "cell_type": "code",
   "execution_count": 1,
   "id": "30c85a68",
   "metadata": {},
   "outputs": [],
   "source": [
    "%load_ext autoreload\n",
    "%autoreload 2"
   ]
  },
  {
   "cell_type": "code",
   "execution_count": 2,
   "id": "3b2aa903",
   "metadata": {},
   "outputs": [],
   "source": [
    "from TaxiFareModel import trainer\n",
    "import pandas as pd"
   ]
  },
  {
   "cell_type": "code",
   "execution_count": 3,
   "id": "cd4d1246",
   "metadata": {},
   "outputs": [],
   "source": [
    "df = pd.read_csv('/Users/felixheuer/code/nomadeleven/TaxiFareModel/raw_data/train_10k.csv', nrows=1000)"
   ]
  },
  {
   "cell_type": "code",
   "execution_count": 4,
   "id": "42772835",
   "metadata": {},
   "outputs": [],
   "source": [
    "df_test = pd.read_csv('/Users/felixheuer/code/nomadeleven/TaxiFareModel/raw_data/test.csv')"
   ]
  },
  {
   "cell_type": "code",
   "execution_count": 5,
   "id": "b5adb51b",
   "metadata": {},
   "outputs": [],
   "source": [
    "y = df.pop(\"fare_amount\")\n",
    "X = df"
   ]
  },
  {
   "cell_type": "code",
   "execution_count": null,
   "id": "9aaa6668",
   "metadata": {},
   "outputs": [],
   "source": [
    "from sklearn.model_selection import train_test_split\n",
    "X_train, X_test, y_train, y_test = train_test_split(X, y, test_size=0.3)"
   ]
  },
  {
   "cell_type": "code",
   "execution_count": 6,
   "id": "4488f3e4",
   "metadata": {},
   "outputs": [],
   "source": [
    "test_obj = trainer.Trainer(X,y)"
   ]
  },
  {
   "cell_type": "code",
   "execution_count": 7,
   "id": "984253aa",
   "metadata": {},
   "outputs": [],
   "source": [
    "test_obj.set_pipeline()"
   ]
  },
  {
   "cell_type": "code",
   "execution_count": 8,
   "id": "95516e79",
   "metadata": {},
   "outputs": [],
   "source": [
    "test_obj.run()"
   ]
  },
  {
   "cell_type": "code",
   "execution_count": 10,
   "id": "e76dc354",
   "metadata": {},
   "outputs": [
    {
     "name": "stdout",
     "output_type": "stream",
     "text": [
      "10.92930402245305\n"
     ]
    },
    {
     "data": {
      "text/plain": [
       "10.92930402245305"
      ]
     },
     "execution_count": 10,
     "metadata": {},
     "output_type": "execute_result"
    }
   ],
   "source": [
    "test_obj.evaluate()"
   ]
  },
  {
   "cell_type": "code",
   "execution_count": null,
   "id": "5c545253",
   "metadata": {},
   "outputs": [],
   "source": []
  }
 ],
 "metadata": {
  "kernelspec": {
   "display_name": "Python 3 (ipykernel)",
   "language": "python",
   "name": "python3"
  },
  "language_info": {
   "codemirror_mode": {
    "name": "ipython",
    "version": 3
   },
   "file_extension": ".py",
   "mimetype": "text/x-python",
   "name": "python",
   "nbconvert_exporter": "python",
   "pygments_lexer": "ipython3",
   "version": "3.8.13"
  },
  "toc": {
   "base_numbering": 1,
   "nav_menu": {},
   "number_sections": true,
   "sideBar": true,
   "skip_h1_title": false,
   "title_cell": "Table of Contents",
   "title_sidebar": "Contents",
   "toc_cell": false,
   "toc_position": {},
   "toc_section_display": true,
   "toc_window_display": false
  }
 },
 "nbformat": 4,
 "nbformat_minor": 5
}
